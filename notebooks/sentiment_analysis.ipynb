{
 "cells": [
  {
   "cell_type": "markdown",
   "metadata": {},
   "source": [
    "## Sentiment Analysis on the IMDB dataset using gpt-3.5-turbo"
   ]
  },
  {
   "cell_type": "markdown",
   "metadata": {},
   "source": [
    "#### Imports"
   ]
  },
  {
   "cell_type": "code",
   "execution_count": 1,
   "metadata": {},
   "outputs": [],
   "source": [
    "import pandas as pd\n",
    "from datasets import  load_dataset\n",
    "import openai\n",
    "import os\n",
    "from sklearn.metrics import confusion_matrix, ConfusionMatrixDisplay\n",
    "import matplotlib.pyplot as plt\n",
    "import numpy as np\n",
    "import tiktoken\n",
    "from tqdm.notebook import tqdm\n",
    "from util_functions import compute_metrics, print_eval_metrics, save_metrics\n",
    "tqdm.pandas()"
   ]
  },
  {
   "cell_type": "markdown",
   "metadata": {},
   "source": [
    "#### Function definition"
   ]
  },
  {
   "cell_type": "code",
   "execution_count": 27,
   "metadata": {},
   "outputs": [],
   "source": [
    "def review_classifier_gpt35(text: str) -> str:\n",
    "    \"\"\"\n",
    "    Classifies whether a movie review is positive or negative,\n",
    "    using Openai's gpt-3.5-turbo model.\n",
    "\n",
    "    Args:\n",
    "    text: str\n",
    "        The review string\n",
    "    response_text: str\n",
    "        The prediction\n",
    "    \"\"\"\n",
    "    messages = [\n",
    "        {\"role\": \"user\",\n",
    "         \"content\": f\"\"\"Analyze the following movie review and determine if the sentiment is: positive or negative.\n",
    "                                        Return answer in single word as either positive or negative: {text}\"\"\"}\n",
    "        ]\n",
    "    \n",
    "    response = openai.ChatCompletion.create(\n",
    "                      model=\"gpt-3.5-turbo\",\n",
    "                      messages=messages,\n",
    "                      max_tokens=1,\n",
    "                      n=1,\n",
    "                      stop=None,\n",
    "                      temperature=0.1,\n",
    "                      request_timeout=4)\n",
    "\n",
    "    response_text = response.choices[0].message.content.strip().lower()\n",
    "\n",
    "    return response_text"
   ]
  },
  {
   "cell_type": "markdown",
   "metadata": {},
   "source": [
    "#### Load dataset and openai key"
   ]
  },
  {
   "cell_type": "code",
   "execution_count": 3,
   "metadata": {},
   "outputs": [],
   "source": [
    "imdb = load_dataset(\"imdb\")\n",
    "openai.api_key = os.environ.get('OPENAI_API_KEY')  # Enter your Openai api key"
   ]
  },
  {
   "cell_type": "markdown",
   "metadata": {},
   "source": [
    "#### Select a sample for testing"
   ]
  },
  {
   "cell_type": "code",
   "execution_count": 4,
   "metadata": {},
   "outputs": [
    {
     "name": "stdout",
     "output_type": "stream",
     "text": [
      "Testing gpt-3.5-turbo model's performance on --2500-- movie reviews\n"
     ]
    }
   ],
   "source": [
    "n_samples = 2500  # Select the number of samples to test\n",
    "test_df = pd.DataFrame(imdb['test']).sample(n_samples, random_state=42).reset_index(drop=True)\n",
    "print(f\"Testing gpt-3.5-turbo model's performance on --{len(test_df)}-- movie reviews\")"
   ]
  },
  {
   "cell_type": "code",
   "execution_count": 5,
   "metadata": {},
   "outputs": [
    {
     "data": {
      "text/html": [
       "<div>\n",
       "<style scoped>\n",
       "    .dataframe tbody tr th:only-of-type {\n",
       "        vertical-align: middle;\n",
       "    }\n",
       "\n",
       "    .dataframe tbody tr th {\n",
       "        vertical-align: top;\n",
       "    }\n",
       "\n",
       "    .dataframe thead th {\n",
       "        text-align: right;\n",
       "    }\n",
       "</style>\n",
       "<table border=\"1\" class=\"dataframe\">\n",
       "  <thead>\n",
       "    <tr style=\"text-align: right;\">\n",
       "      <th></th>\n",
       "      <th>text</th>\n",
       "      <th>label</th>\n",
       "      <th>pred</th>\n",
       "    </tr>\n",
       "  </thead>\n",
       "  <tbody>\n",
       "    <tr>\n",
       "      <th>0</th>\n",
       "      <td>I could not believe how terrible and boring th...</td>\n",
       "      <td>0</td>\n",
       "      <td>None</td>\n",
       "    </tr>\n",
       "    <tr>\n",
       "      <th>1</th>\n",
       "      <td>I rented Boogie Nights last week and I could t...</td>\n",
       "      <td>1</td>\n",
       "      <td>None</td>\n",
       "    </tr>\n",
       "    <tr>\n",
       "      <th>2</th>\n",
       "      <td>First off, this movie is not near complete, my...</td>\n",
       "      <td>0</td>\n",
       "      <td>None</td>\n",
       "    </tr>\n",
       "    <tr>\n",
       "      <th>3</th>\n",
       "      <td>I watched this mini in the early eighties. Sam...</td>\n",
       "      <td>1</td>\n",
       "      <td>None</td>\n",
       "    </tr>\n",
       "    <tr>\n",
       "      <th>4</th>\n",
       "      <td>This movie was never intended as a big-budget ...</td>\n",
       "      <td>1</td>\n",
       "      <td>None</td>\n",
       "    </tr>\n",
       "    <tr>\n",
       "      <th>...</th>\n",
       "      <td>...</td>\n",
       "      <td>...</td>\n",
       "      <td>...</td>\n",
       "    </tr>\n",
       "    <tr>\n",
       "      <th>2495</th>\n",
       "      <td>Following on directly from the last episode of...</td>\n",
       "      <td>1</td>\n",
       "      <td>None</td>\n",
       "    </tr>\n",
       "    <tr>\n",
       "      <th>2496</th>\n",
       "      <td>\"The King of Queens\" could be divided into two...</td>\n",
       "      <td>1</td>\n",
       "      <td>None</td>\n",
       "    </tr>\n",
       "    <tr>\n",
       "      <th>2497</th>\n",
       "      <td>the fact that there was so much fuss is ironic...</td>\n",
       "      <td>1</td>\n",
       "      <td>None</td>\n",
       "    </tr>\n",
       "    <tr>\n",
       "      <th>2498</th>\n",
       "      <td>Told in flashback, the film opens in 1989 with...</td>\n",
       "      <td>1</td>\n",
       "      <td>None</td>\n",
       "    </tr>\n",
       "    <tr>\n",
       "      <th>2499</th>\n",
       "      <td>I am in a movie club at my school and I was fo...</td>\n",
       "      <td>0</td>\n",
       "      <td>None</td>\n",
       "    </tr>\n",
       "  </tbody>\n",
       "</table>\n",
       "<p>2500 rows × 3 columns</p>\n",
       "</div>"
      ],
      "text/plain": [
       "                                                   text  label  pred\n",
       "0     I could not believe how terrible and boring th...      0  None\n",
       "1     I rented Boogie Nights last week and I could t...      1  None\n",
       "2     First off, this movie is not near complete, my...      0  None\n",
       "3     I watched this mini in the early eighties. Sam...      1  None\n",
       "4     This movie was never intended as a big-budget ...      1  None\n",
       "...                                                 ...    ...   ...\n",
       "2495  Following on directly from the last episode of...      1  None\n",
       "2496  \"The King of Queens\" could be divided into two...      1  None\n",
       "2497  the fact that there was so much fuss is ironic...      1  None\n",
       "2498  Told in flashback, the film opens in 1989 with...      1  None\n",
       "2499  I am in a movie club at my school and I was fo...      0  None\n",
       "\n",
       "[2500 rows x 3 columns]"
      ]
     },
     "execution_count": 5,
     "metadata": {},
     "output_type": "execute_result"
    }
   ],
   "source": [
    "test_df.loc[:, 'pred'] = None\n",
    "test_df"
   ]
  },
  {
   "cell_type": "markdown",
   "metadata": {},
   "source": [
    "#### Classify test dataset"
   ]
  },
  {
   "cell_type": "code",
   "execution_count": null,
   "metadata": {},
   "outputs": [],
   "source": [
    "max_retries = 10\n",
    "for index, row in tqdm(test_df.iterrows(), total=len(test_df), colour='green'):\n",
    "    if pd.isnull(row['pred']):\n",
    "        retries = 0\n",
    "        while retries < max_retries:\n",
    "            try:\n",
    "                test_df.loc[index, 'pred'] = review_classifier_gpt35(row['text'])\n",
    "                test_df.to_csv('checkpoints.csv', index=False)\n",
    "                break\n",
    "            except Exception as e:\n",
    "                retries += 1\n",
    "                print(f\"Error processing row {index}, retry {retries}/{max_retries}: {e}\")\n",
    "                if retries == max_retries:\n",
    "                    print(f\"Maximum retries reached for row {index}. Skipping.\")\n",
    "                    break  \n"
   ]
  },
  {
   "cell_type": "markdown",
   "metadata": {},
   "source": [
    "#### Transform predictions column and store results in .csv file"
   ]
  },
  {
   "cell_type": "code",
   "execution_count": 20,
   "metadata": {},
   "outputs": [
    {
     "name": "stdout",
     "output_type": "stream",
     "text": [
      "Stored results.\n"
     ]
    }
   ],
   "source": [
    "test_df.loc[test_df['pred'] == 'negative', 'pred'] = 0\n",
    "test_df.loc[test_df['pred'] == 'positive', 'pred'] = 1\n",
    "test_df['pred'] = test_df['pred'].astype(np.int64)\n",
    "test_df.to_csv('predictions.csv', index=True)\n",
    "print(\"Stored results.\")\n"
   ]
  },
  {
   "cell_type": "code",
   "execution_count": 21,
   "metadata": {},
   "outputs": [
    {
     "data": {
      "text/html": [
       "<div>\n",
       "<style scoped>\n",
       "    .dataframe tbody tr th:only-of-type {\n",
       "        vertical-align: middle;\n",
       "    }\n",
       "\n",
       "    .dataframe tbody tr th {\n",
       "        vertical-align: top;\n",
       "    }\n",
       "\n",
       "    .dataframe thead th {\n",
       "        text-align: right;\n",
       "    }\n",
       "</style>\n",
       "<table border=\"1\" class=\"dataframe\">\n",
       "  <thead>\n",
       "    <tr style=\"text-align: right;\">\n",
       "      <th></th>\n",
       "      <th>text</th>\n",
       "      <th>label</th>\n",
       "      <th>pred</th>\n",
       "    </tr>\n",
       "  </thead>\n",
       "  <tbody>\n",
       "    <tr>\n",
       "      <th>0</th>\n",
       "      <td>I could not believe how terrible and boring th...</td>\n",
       "      <td>0</td>\n",
       "      <td>0</td>\n",
       "    </tr>\n",
       "    <tr>\n",
       "      <th>1</th>\n",
       "      <td>I rented Boogie Nights last week and I could t...</td>\n",
       "      <td>1</td>\n",
       "      <td>1</td>\n",
       "    </tr>\n",
       "    <tr>\n",
       "      <th>2</th>\n",
       "      <td>First off, this movie is not near complete, my...</td>\n",
       "      <td>0</td>\n",
       "      <td>0</td>\n",
       "    </tr>\n",
       "    <tr>\n",
       "      <th>3</th>\n",
       "      <td>I watched this mini in the early eighties. Sam...</td>\n",
       "      <td>1</td>\n",
       "      <td>1</td>\n",
       "    </tr>\n",
       "    <tr>\n",
       "      <th>4</th>\n",
       "      <td>This movie was never intended as a big-budget ...</td>\n",
       "      <td>1</td>\n",
       "      <td>1</td>\n",
       "    </tr>\n",
       "    <tr>\n",
       "      <th>...</th>\n",
       "      <td>...</td>\n",
       "      <td>...</td>\n",
       "      <td>...</td>\n",
       "    </tr>\n",
       "    <tr>\n",
       "      <th>2495</th>\n",
       "      <td>Following on directly from the last episode of...</td>\n",
       "      <td>1</td>\n",
       "      <td>1</td>\n",
       "    </tr>\n",
       "    <tr>\n",
       "      <th>2496</th>\n",
       "      <td>\"The King of Queens\" could be divided into two...</td>\n",
       "      <td>1</td>\n",
       "      <td>1</td>\n",
       "    </tr>\n",
       "    <tr>\n",
       "      <th>2497</th>\n",
       "      <td>the fact that there was so much fuss is ironic...</td>\n",
       "      <td>1</td>\n",
       "      <td>1</td>\n",
       "    </tr>\n",
       "    <tr>\n",
       "      <th>2498</th>\n",
       "      <td>Told in flashback, the film opens in 1989 with...</td>\n",
       "      <td>1</td>\n",
       "      <td>1</td>\n",
       "    </tr>\n",
       "    <tr>\n",
       "      <th>2499</th>\n",
       "      <td>I am in a movie club at my school and I was fo...</td>\n",
       "      <td>0</td>\n",
       "      <td>0</td>\n",
       "    </tr>\n",
       "  </tbody>\n",
       "</table>\n",
       "<p>2500 rows × 3 columns</p>\n",
       "</div>"
      ],
      "text/plain": [
       "                                                   text  label  pred\n",
       "0     I could not believe how terrible and boring th...      0     0\n",
       "1     I rented Boogie Nights last week and I could t...      1     1\n",
       "2     First off, this movie is not near complete, my...      0     0\n",
       "3     I watched this mini in the early eighties. Sam...      1     1\n",
       "4     This movie was never intended as a big-budget ...      1     1\n",
       "...                                                 ...    ...   ...\n",
       "2495  Following on directly from the last episode of...      1     1\n",
       "2496  \"The King of Queens\" could be divided into two...      1     1\n",
       "2497  the fact that there was so much fuss is ironic...      1     1\n",
       "2498  Told in flashback, the film opens in 1989 with...      1     1\n",
       "2499  I am in a movie club at my school and I was fo...      0     0\n",
       "\n",
       "[2500 rows x 3 columns]"
      ]
     },
     "execution_count": 21,
     "metadata": {},
     "output_type": "execute_result"
    }
   ],
   "source": [
    "test_df"
   ]
  },
  {
   "cell_type": "markdown",
   "metadata": {},
   "source": [
    "#### Compute Metrics"
   ]
  },
  {
   "cell_type": "code",
   "execution_count": 28,
   "metadata": {},
   "outputs": [
    {
     "name": "stdout",
     "output_type": "stream",
     "text": [
      "The precision score is:  0.96\n",
      "The recall score is:  0.93\n",
      "The f1_score score is:  0.94\n",
      "The accuracy score is:  0.94\n",
      "Saved metrics.json!\n"
     ]
    }
   ],
   "source": [
    "\n",
    "metrics = compute_metrics(true_labels=test_df['label'].to_list(), \n",
    "                          predicted_labels=test_df['pred'].to_list())\n",
    "print_eval_metrics(metrics)\n",
    "save_metrics(metrics=metrics, file_name='metrics_sentiment')"
   ]
  },
  {
   "cell_type": "code",
   "execution_count": 29,
   "metadata": {},
   "outputs": [
    {
     "data": {
      "image/png": "[encoded data removed]",
      "text/plain": [
       "<Figure size 640x480 with 2 Axes>"
      ]
     },
     "metadata": {},
     "output_type": "display_data"
    }
   ],
   "source": [
    "conf_matrix = confusion_matrix(y_true=test_df['label'].values, \n",
    "                               y_pred=test_df['pred'].values)\n",
    "cm_display = ConfusionMatrixDisplay(confusion_matrix=conf_matrix, \n",
    "                                    display_labels=[False, True])\n",
    "cm_display.plot()\n",
    "plt.show()"
   ]
  },
  {
   "cell_type": "code",
   "execution_count": 30,
   "metadata": {},
   "outputs": [],
   "source": [
    "errors_df = test_df[test_df['label'] != test_df['pred']]\n",
    "errors_df.to_csv('errors.csv')"
   ]
  },
  {
   "cell_type": "markdown",
   "metadata": {},
   "source": [
    "##### Appendix: Token estimation"
   ]
  },
  {
   "cell_type": "code",
   "execution_count": 31,
   "metadata": {},
   "outputs": [],
   "source": [
    "df = test_df\n",
    "encoding = tiktoken.get_encoding(\"cl100k_base\")\n",
    "encoding = tiktoken.encoding_for_model(\"gpt-3.5-turbo\")\n",
    "df[\"tokens\"] = df['text'].apply(encoding.encode)\n",
    "df[\"n_tokens\"] = df['tokens'].apply(len)\n",
    "\n",
    "promt = \"\"\"Analyze the following movie review and determine if the sentiment is: positive or negative.\n",
    "            Return answer in single word as either positive or negative:\"\"\"\n",
    "n_prompt_tokens= len(encoding.encode(promt))"
   ]
  },
  {
   "cell_type": "code",
   "execution_count": 32,
   "metadata": {},
   "outputs": [
    {
     "name": "stdout",
     "output_type": "stream",
     "text": [
      "Total number of reviews: 2500\n",
      "Total number of tokens: 716854\n",
      "Tokens per review: 286\n",
      "Number of token prompts: 29\n",
      "Tokens per request: 316\n",
      "Tokens spent: 790000\n"
     ]
    }
   ],
   "source": [
    "print(f\"Total number of reviews: {len(df)}\")\n",
    "print(f\"Total number of tokens: {df.n_tokens.sum()}\")\n",
    "print(f\"Tokens per review: {int(df.n_tokens.mean())}\")\n",
    "print(f\"Number of token prompts: {n_prompt_tokens}\")\n",
    "print(f\"Tokens per request: {int(df.n_tokens.mean() + n_prompt_tokens + 1)}\")\n",
    "print(f\"Tokens spent: {(int(df.n_tokens.mean() + n_prompt_tokens + 1) * len(df))}\")"
   ]
  }
 ],
 "metadata": {
  "kernelspec": {
   "display_name": "pytorch",
   "language": "python",
   "name": "python3"
  },
  "language_info": {
   "codemirror_mode": {
    "name": "ipython",
    "version": 3
   },
   "file_extension": ".py",
   "mimetype": "text/x-python",
   "name": "python",
   "nbconvert_exporter": "python",
   "pygments_lexer": "ipython3",
   "version": "3.10.13"
  }
 },
 "nbformat": 4,
 "nbformat_minor": 2
}
