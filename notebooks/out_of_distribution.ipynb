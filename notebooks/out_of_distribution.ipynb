{
 "cells": [
  {
   "cell_type": "markdown",
   "metadata": {},
   "source": [
    "## Out Of Distribution Classifier using gpt-3.5-turbo"
   ]
  },
  {
   "cell_type": "code",
   "execution_count": 1,
   "metadata": {},
   "outputs": [],
   "source": [
    "import pandas as pd\n",
    "from datasets import  load_dataset\n",
    "import openai\n",
    "from sklearn.metrics import confusion_matrix, ConfusionMatrixDisplay\n",
    "import matplotlib.pyplot as plt\n",
    "import numpy as np\n",
    "from tqdm.notebook import tqdm\n",
    "from util_functions import compute_metrics, print_eval_metrics, save_metrics\n",
    "import os\n",
    "tqdm.pandas()\n",
    "\n",
    "openai.api_key = os.environ.get('OPENAI_API_KEY')  # Enter your Openai api key"
   ]
  },
  {
   "cell_type": "code",
   "execution_count": 2,
   "metadata": {},
   "outputs": [],
   "source": [
    "def ood_classifier_gpt35(text: str) -> str:\n",
    "    \"\"\"\n",
    "    Classifies whether a given text is a movie review or not,\n",
    "    using Openai's gpt-3.5-turbo model.\n",
    "\n",
    "    Args:\n",
    "    text: str\n",
    "        A text string\n",
    "    response_text: str\n",
    "        The prediction\n",
    "    \"\"\"\n",
    "    messages = [\n",
    "        {\"role\": \"user\",\n",
    "         \"content\": f\"\"\" Assess if the following is a movie review or not and return exactly one word: \n",
    "         'yes' if it is a review for movies or any kind of tv show review or film review or cinema review,\n",
    "         'no' if it is not \n",
    "         {text} \"\"\"}\n",
    "        ]\n",
    "    \n",
    "    response = openai.ChatCompletion.create(\n",
    "                      model=\"gpt-3.5-turbo\",\n",
    "                      messages=messages,\n",
    "                      max_tokens=3,\n",
    "                      n=1,\n",
    "                      stop=None,\n",
    "                      temperature=0.1,\n",
    "                      request_timeout=4)\n",
    "\n",
    "    response_text = response.choices[0].message.content.strip().lower()\n",
    "\n",
    "    return response_text"
   ]
  },
  {
   "cell_type": "markdown",
   "metadata": {},
   "source": [
    "#### Load Review Datasets"
   ]
  },
  {
   "cell_type": "code",
   "execution_count": 3,
   "metadata": {},
   "outputs": [],
   "source": [
    "imdb = load_dataset(\"imdb\")\n",
    "amazon = load_dataset(\"amazon_polarity\", split='test')[:10_000]\n",
    "yelp = load_dataset(\"yelp_polarity\", split='train')[:10_000]\n"
   ]
  },
  {
   "cell_type": "markdown",
   "metadata": {},
   "source": [
    "#### Preprocess Datasets "
   ]
  },
  {
   "cell_type": "code",
   "execution_count": 4,
   "metadata": {},
   "outputs": [],
   "source": [
    "df_imdb = pd.concat([pd.DataFrame(imdb['train']),  pd.DataFrame(imdb['train'])], axis=0, ignore_index=True)[:10_000]\n",
    "df_imdb.loc[:, 'label'] = 1"
   ]
  },
  {
   "cell_type": "code",
   "execution_count": 5,
   "metadata": {},
   "outputs": [],
   "source": [
    "df_amazon = pd.DataFrame(amazon)\n",
    "df_amazon['text'] = df_amazon['title'] + '. ' + df_amazon['content']\n",
    "df_amazon = df_amazon.drop(['title', 'content'], axis=1)\n",
    "df_amazon.loc[:, 'label'] = 0"
   ]
  },
  {
   "cell_type": "code",
   "execution_count": 6,
   "metadata": {},
   "outputs": [],
   "source": [
    "df_yelp = pd.DataFrame(yelp)\n",
    "df_yelp.loc[:, 'label'] = 0"
   ]
  },
  {
   "cell_type": "code",
   "execution_count": 7,
   "metadata": {},
   "outputs": [],
   "source": [
    "# Sample 600 total examples: 300 imdb, 150 amazon, 150 yelp\n",
    "df_imdb = df_imdb.sample(n=300, random_state=42).reset_index(drop=True)\n",
    "df_amazon = df_amazon.sample(n=150, random_state=42).reset_index(drop=True)\n",
    "df_yelp = df_yelp.sample(n=150, random_state=42).reset_index(drop=True)"
   ]
  },
  {
   "cell_type": "markdown",
   "metadata": {},
   "source": [
    "#### Combine Datasets"
   ]
  },
  {
   "cell_type": "code",
   "execution_count": 8,
   "metadata": {},
   "outputs": [],
   "source": [
    "test_df = pd.concat([df_imdb, df_amazon, df_yelp], axis=0, ignore_index=True)"
   ]
  },
  {
   "cell_type": "code",
   "execution_count": 9,
   "metadata": {},
   "outputs": [
    {
     "data": {
      "text/html": [
       "<div>\n",
       "<style scoped>\n",
       "    .dataframe tbody tr th:only-of-type {\n",
       "        vertical-align: middle;\n",
       "    }\n",
       "\n",
       "    .dataframe tbody tr th {\n",
       "        vertical-align: top;\n",
       "    }\n",
       "\n",
       "    .dataframe thead th {\n",
       "        text-align: right;\n",
       "    }\n",
       "</style>\n",
       "<table border=\"1\" class=\"dataframe\">\n",
       "  <thead>\n",
       "    <tr style=\"text-align: right;\">\n",
       "      <th></th>\n",
       "      <th>text</th>\n",
       "      <th>label</th>\n",
       "      <th>pred</th>\n",
       "    </tr>\n",
       "  </thead>\n",
       "  <tbody>\n",
       "    <tr>\n",
       "      <th>0</th>\n",
       "      <td>Hooper is Not Funny, Not Fasted paced, Not rom...</td>\n",
       "      <td>1</td>\n",
       "      <td>None</td>\n",
       "    </tr>\n",
       "    <tr>\n",
       "      <th>1</th>\n",
       "      <td>This movie is a waste of film stock. Do you be...</td>\n",
       "      <td>1</td>\n",
       "      <td>None</td>\n",
       "    </tr>\n",
       "    <tr>\n",
       "      <th>2</th>\n",
       "      <td>...and it is this film. I imagine that if inde...</td>\n",
       "      <td>1</td>\n",
       "      <td>None</td>\n",
       "    </tr>\n",
       "    <tr>\n",
       "      <th>3</th>\n",
       "      <td>I really liked ZB1. Really, I did. I have no p...</td>\n",
       "      <td>1</td>\n",
       "      <td>None</td>\n",
       "    </tr>\n",
       "    <tr>\n",
       "      <th>4</th>\n",
       "      <td>SPOILER WARNING: There are some minor spoilers...</td>\n",
       "      <td>1</td>\n",
       "      <td>None</td>\n",
       "    </tr>\n",
       "    <tr>\n",
       "      <th>...</th>\n",
       "      <td>...</td>\n",
       "      <td>...</td>\n",
       "      <td>...</td>\n",
       "    </tr>\n",
       "    <tr>\n",
       "      <th>595</th>\n",
       "      <td>i found out that portion size is good, then ba...</td>\n",
       "      <td>0</td>\n",
       "      <td>None</td>\n",
       "    </tr>\n",
       "    <tr>\n",
       "      <th>596</th>\n",
       "      <td>So yeah, pretty much what everyone has said so...</td>\n",
       "      <td>0</td>\n",
       "      <td>None</td>\n",
       "    </tr>\n",
       "    <tr>\n",
       "      <th>597</th>\n",
       "      <td>So, this is what happened.\\n\\nI went their com...</td>\n",
       "      <td>0</td>\n",
       "      <td>None</td>\n",
       "    </tr>\n",
       "    <tr>\n",
       "      <th>598</th>\n",
       "      <td>Last night was my first time at D's. The beer ...</td>\n",
       "      <td>0</td>\n",
       "      <td>None</td>\n",
       "    </tr>\n",
       "    <tr>\n",
       "      <th>599</th>\n",
       "      <td>My husband and I went to Presto on a Tuesday n...</td>\n",
       "      <td>0</td>\n",
       "      <td>None</td>\n",
       "    </tr>\n",
       "  </tbody>\n",
       "</table>\n",
       "<p>600 rows × 3 columns</p>\n",
       "</div>"
      ],
      "text/plain": [
       "                                                  text  label  pred\n",
       "0    Hooper is Not Funny, Not Fasted paced, Not rom...      1  None\n",
       "1    This movie is a waste of film stock. Do you be...      1  None\n",
       "2    ...and it is this film. I imagine that if inde...      1  None\n",
       "3    I really liked ZB1. Really, I did. I have no p...      1  None\n",
       "4    SPOILER WARNING: There are some minor spoilers...      1  None\n",
       "..                                                 ...    ...   ...\n",
       "595  i found out that portion size is good, then ba...      0  None\n",
       "596  So yeah, pretty much what everyone has said so...      0  None\n",
       "597  So, this is what happened.\\n\\nI went their com...      0  None\n",
       "598  Last night was my first time at D's. The beer ...      0  None\n",
       "599  My husband and I went to Presto on a Tuesday n...      0  None\n",
       "\n",
       "[600 rows x 3 columns]"
      ]
     },
     "execution_count": 9,
     "metadata": {},
     "output_type": "execute_result"
    }
   ],
   "source": [
    "test_df.loc[:, 'pred'] = None\n",
    "test_df"
   ]
  },
  {
   "cell_type": "code",
   "execution_count": null,
   "metadata": {},
   "outputs": [],
   "source": [
    "max_retries = 12\n",
    "for index, row in tqdm(test_df.iterrows(), total=len(test_df), colour='green'):\n",
    "    if pd.isnull(row['pred']):\n",
    "        retries = 0\n",
    "        while retries < max_retries:\n",
    "            try:\n",
    "                test_df.loc[index, 'pred'] = ood_classifier_gpt35(row['text'])\n",
    "                test_df.to_csv('checkpoints.csv', index=False)\n",
    "                break\n",
    "            except Exception as e:\n",
    "                retries += 1\n",
    "                print(f\"Error processing row {index}, retry {retries}/{max_retries}: {e}\")\n",
    "                if retries == max_retries:\n",
    "                    print(f\"Maximum retries reached for row {index}. Skipping.\")\n",
    "                    break  \n"
   ]
  },
  {
   "cell_type": "markdown",
   "metadata": {},
   "source": [
    "#### Transform predictions column and store results in .csv file"
   ]
  },
  {
   "cell_type": "code",
   "execution_count": 13,
   "metadata": {},
   "outputs": [
    {
     "name": "stdout",
     "output_type": "stream",
     "text": [
      "Stored results.\n"
     ]
    }
   ],
   "source": [
    "test_df.loc[test_df['pred'] == 'no', 'pred'] = 0\n",
    "test_df.loc[test_df['pred'] == 'yes', 'pred'] = 1\n",
    "test_df['pred'] = test_df['pred'].astype(np.int64)\n",
    "test_df.to_csv('predictions_ood.csv', index=True)\n",
    "print(\"Stored results.\")\n"
   ]
  },
  {
   "cell_type": "code",
   "execution_count": 14,
   "metadata": {},
   "outputs": [
    {
     "data": {
      "text/html": [
       "<div>\n",
       "<style scoped>\n",
       "    .dataframe tbody tr th:only-of-type {\n",
       "        vertical-align: middle;\n",
       "    }\n",
       "\n",
       "    .dataframe tbody tr th {\n",
       "        vertical-align: top;\n",
       "    }\n",
       "\n",
       "    .dataframe thead th {\n",
       "        text-align: right;\n",
       "    }\n",
       "</style>\n",
       "<table border=\"1\" class=\"dataframe\">\n",
       "  <thead>\n",
       "    <tr style=\"text-align: right;\">\n",
       "      <th></th>\n",
       "      <th>text</th>\n",
       "      <th>label</th>\n",
       "      <th>pred</th>\n",
       "    </tr>\n",
       "  </thead>\n",
       "  <tbody>\n",
       "    <tr>\n",
       "      <th>0</th>\n",
       "      <td>Hooper is Not Funny, Not Fasted paced, Not rom...</td>\n",
       "      <td>1</td>\n",
       "      <td>1</td>\n",
       "    </tr>\n",
       "    <tr>\n",
       "      <th>1</th>\n",
       "      <td>This movie is a waste of film stock. Do you be...</td>\n",
       "      <td>1</td>\n",
       "      <td>1</td>\n",
       "    </tr>\n",
       "    <tr>\n",
       "      <th>2</th>\n",
       "      <td>...and it is this film. I imagine that if inde...</td>\n",
       "      <td>1</td>\n",
       "      <td>1</td>\n",
       "    </tr>\n",
       "    <tr>\n",
       "      <th>3</th>\n",
       "      <td>I really liked ZB1. Really, I did. I have no p...</td>\n",
       "      <td>1</td>\n",
       "      <td>1</td>\n",
       "    </tr>\n",
       "    <tr>\n",
       "      <th>4</th>\n",
       "      <td>SPOILER WARNING: There are some minor spoilers...</td>\n",
       "      <td>1</td>\n",
       "      <td>1</td>\n",
       "    </tr>\n",
       "    <tr>\n",
       "      <th>...</th>\n",
       "      <td>...</td>\n",
       "      <td>...</td>\n",
       "      <td>...</td>\n",
       "    </tr>\n",
       "    <tr>\n",
       "      <th>595</th>\n",
       "      <td>i found out that portion size is good, then ba...</td>\n",
       "      <td>0</td>\n",
       "      <td>0</td>\n",
       "    </tr>\n",
       "    <tr>\n",
       "      <th>596</th>\n",
       "      <td>So yeah, pretty much what everyone has said so...</td>\n",
       "      <td>0</td>\n",
       "      <td>0</td>\n",
       "    </tr>\n",
       "    <tr>\n",
       "      <th>597</th>\n",
       "      <td>So, this is what happened.\\n\\nI went their com...</td>\n",
       "      <td>0</td>\n",
       "      <td>0</td>\n",
       "    </tr>\n",
       "    <tr>\n",
       "      <th>598</th>\n",
       "      <td>Last night was my first time at D's. The beer ...</td>\n",
       "      <td>0</td>\n",
       "      <td>0</td>\n",
       "    </tr>\n",
       "    <tr>\n",
       "      <th>599</th>\n",
       "      <td>My husband and I went to Presto on a Tuesday n...</td>\n",
       "      <td>0</td>\n",
       "      <td>0</td>\n",
       "    </tr>\n",
       "  </tbody>\n",
       "</table>\n",
       "<p>600 rows × 3 columns</p>\n",
       "</div>"
      ],
      "text/plain": [
       "                                                  text  label  pred\n",
       "0    Hooper is Not Funny, Not Fasted paced, Not rom...      1     1\n",
       "1    This movie is a waste of film stock. Do you be...      1     1\n",
       "2    ...and it is this film. I imagine that if inde...      1     1\n",
       "3    I really liked ZB1. Really, I did. I have no p...      1     1\n",
       "4    SPOILER WARNING: There are some minor spoilers...      1     1\n",
       "..                                                 ...    ...   ...\n",
       "595  i found out that portion size is good, then ba...      0     0\n",
       "596  So yeah, pretty much what everyone has said so...      0     0\n",
       "597  So, this is what happened.\\n\\nI went their com...      0     0\n",
       "598  Last night was my first time at D's. The beer ...      0     0\n",
       "599  My husband and I went to Presto on a Tuesday n...      0     0\n",
       "\n",
       "[600 rows x 3 columns]"
      ]
     },
     "execution_count": 14,
     "metadata": {},
     "output_type": "execute_result"
    }
   ],
   "source": [
    "test_df"
   ]
  },
  {
   "cell_type": "markdown",
   "metadata": {},
   "source": [
    "#### Compute metrics"
   ]
  },
  {
   "cell_type": "code",
   "execution_count": 15,
   "metadata": {},
   "outputs": [
    {
     "name": "stdout",
     "output_type": "stream",
     "text": [
      "The precision score is:  0.89\n",
      "The recall score is:  0.94\n",
      "The f1_score score is:  0.91\n",
      "The accuracy score is:  0.91\n",
      "Saved metrics_ood.json!\n"
     ]
    }
   ],
   "source": [
    "metrics = compute_metrics(true_labels=test_df['label'].to_list(), \n",
    "                          predicted_labels=test_df['pred'].to_list())\n",
    "print_eval_metrics(metrics)\n",
    "save_metrics(metrics=metrics, file_name=\"metrics_ood\")"
   ]
  },
  {
   "cell_type": "code",
   "execution_count": 16,
   "metadata": {},
   "outputs": [
    {
     "data": {
      "image/png": "[encoded data removed]",
      "text/plain": [
       "<Figure size 640x480 with 2 Axes>"
      ]
     },
     "metadata": {},
     "output_type": "display_data"
    }
   ],
   "source": [
    "conf_matrix = confusion_matrix(y_true=test_df['label'].values, \n",
    "                               y_pred=test_df['pred'].values)\n",
    "cm_display = ConfusionMatrixDisplay(confusion_matrix=conf_matrix, \n",
    "                                    display_labels=[False, True])\n",
    "cm_display.plot()\n",
    "plt.show()"
   ]
  },
  {
   "cell_type": "code",
   "execution_count": 17,
   "metadata": {},
   "outputs": [],
   "source": [
    "errors_df = test_df[test_df['label'] != test_df['pred']]\n",
    "errors_df.to_csv('errors_ood.csv')"
   ]
  }
 ],
 "metadata": {
  "kernelspec": {
   "display_name": "pytorch",
   "language": "python",
   "name": "python3"
  },
  "language_info": {
   "codemirror_mode": {
    "name": "ipython",
    "version": 3
   },
   "file_extension": ".py",
   "mimetype": "text/x-python",
   "name": "python",
   "nbconvert_exporter": "python",
   "pygments_lexer": "ipython3",
   "version": "3.10.13"
  }
 },
 "nbformat": 4,
 "nbformat_minor": 2
}
